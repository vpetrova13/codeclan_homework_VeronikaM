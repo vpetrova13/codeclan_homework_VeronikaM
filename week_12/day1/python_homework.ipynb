{
 "cells": [
  {
   "cell_type": "code",
   "execution_count": 45,
   "metadata": {},
   "outputs": [],
   "source": [
    "def first_last(x):\n",
    "    listx = []\n",
    "    listx.append(x[0])\n",
    "    listx.append(x[-1])\n",
    "    return listx"
   ]
  },
  {
   "cell_type": "code",
   "execution_count": 46,
   "metadata": {
    "scrolled": false
   },
   "outputs": [
    {
     "data": {
      "text/plain": [
       "[3, 19]"
      ]
     },
     "execution_count": 46,
     "metadata": {},
     "output_type": "execute_result"
    }
   ],
   "source": [
    "x = [3, 6, 2, 19]\n",
    "first_last(x)"
   ]
  },
  {
   "cell_type": "code",
   "execution_count": 1,
   "metadata": {},
   "outputs": [
    {
     "data": {
      "text/plain": [
       "[3, 19]"
      ]
     },
     "execution_count": 1,
     "metadata": {},
     "output_type": "execute_result"
    }
   ],
   "source": [
    "def first_and_last(input_list):\n",
    "    return [input_list[0], input_list[-1]]\n",
    "  \n",
    "first_and_last([3, 6, 2,  19])"
   ]
  },
  {
   "cell_type": "code",
   "execution_count": 5,
   "metadata": {},
   "outputs": [],
   "source": [
    "def letter_number_count(input):\n",
    "    output = {'digits' : 0, \"letters\" : 0}\n",
    "    for character in input:\n",
    "        if character.isdigit():\n",
    "            output[\"digits\"] += 1\n",
    "        elif character.isalpha():\n",
    "            output[\"letters\"] += 1\n",
    "        return output\n",
    "  "
   ]
  },
  {
   "cell_type": "code",
   "execution_count": 6,
   "metadata": {},
   "outputs": [
    {
     "data": {
      "text/plain": [
       "{'digits': 0, 'letters': 1}"
      ]
     },
     "execution_count": 6,
     "metadata": {},
     "output_type": "execute_result"
    }
   ],
   "source": [
    "letter_number_count(\"hello world! 123\")"
   ]
  },
  {
   "cell_type": "code",
   "execution_count": 67,
   "metadata": {},
   "outputs": [],
   "source": [
    "class Bank:\n",
    "    def __init__(self, balance):\n",
    "        self.balance = 0\n",
    "        \n",
    "    def get_balance(self):\n",
    "        print(self.balance)\n",
    "        \n",
    "    def deposit(self):\n",
    "        if self.balance > 0:\n",
    "            print(self.balance)\n",
    "        elif self.balance <0:\n",
    "            print(\"Error\")\n",
    "        \n",
    "    def withdraw(self):\n",
    "        if self.balance > 0:\n",
    "            print(self.balance)\n",
    "        elif self.balance <0:\n",
    "            print(\"Error\")"
   ]
  },
  {
   "cell_type": "code",
   "execution_count": 68,
   "metadata": {},
   "outputs": [],
   "source": [
    "rbs = Bank(4)\n",
    "rbs.withdraw()"
   ]
  },
  {
   "cell_type": "code",
   "execution_count": null,
   "metadata": {},
   "outputs": [],
   "source": [
    "class BankAccount:\n",
    "\n",
    "  def __init__(self):\n",
    "    self.balance = 0\n",
    "    \n",
    "  def get_balance(self):\n",
    "    print(\"Balance is £\" + str(self.balance))\n",
    "    \n",
    "  def deposit(self, amount):\n",
    "    if amount > 0:\n",
    "      self.balance += amount\n",
    "      print(\"Deposit amount £\" + str(amount))\n",
    "      print(\"New balance is £\" + str(self.balance))\n",
    "    else:\n",
    "      print(\"Deposit amount zero or negative - transaction cancelled.\")\n",
    "      \n",
    "  def withdraw(self, amount):\n",
    "    if amount > 0:\n",
    "      if self.balance - amount >= 0:\n",
    "        self.balance -= amount\n",
    "        print(\"Withdraw amount £\" + str(amount))\n",
    "        print(\"New balance is £\" + str(self.balance))\n",
    "      else:\n",
    "        print(\"Insufficient funds - transaction cancelled.\")\n",
    "    else:\n",
    "      print(\"Withdraw amount zero or negative - transaction cancelled.\")\n"
   ]
  }
 ],
 "metadata": {
  "kernelspec": {
   "display_name": "Python 3",
   "language": "python",
   "name": "python3"
  },
  "language_info": {
   "codemirror_mode": {
    "name": "ipython",
    "version": 3
   },
   "file_extension": ".py",
   "mimetype": "text/x-python",
   "name": "python",
   "nbconvert_exporter": "python",
   "pygments_lexer": "ipython3",
   "version": "3.8.3"
  }
 },
 "nbformat": 4,
 "nbformat_minor": 4
}
