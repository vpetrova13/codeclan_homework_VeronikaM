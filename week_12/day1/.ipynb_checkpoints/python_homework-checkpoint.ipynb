{
 "cells": [
  {
   "cell_type": "code",
   "execution_count": 45,
   "metadata": {},
   "outputs": [],
   "source": [
    "def first_last(x):\n",
    "    listx = []\n",
    "    listx.append(x[0])\n",
    "    listx.append(x[-1])\n",
    "    return listx"
   ]
  },
  {
   "cell_type": "code",
   "execution_count": 46,
   "metadata": {
    "scrolled": true
   },
   "outputs": [
    {
     "data": {
      "text/plain": [
       "[3, 19]"
      ]
     },
     "execution_count": 46,
     "metadata": {},
     "output_type": "execute_result"
    }
   ],
   "source": [
    "x = [3, 6, 2, 19]\n",
    "first_last(x)"
   ]
  },
  {
   "cell_type": "code",
   "execution_count": 48,
   "metadata": {},
   "outputs": [
    {
     "ename": "SyntaxError",
     "evalue": "invalid syntax (<ipython-input-48-176aef86aaa4>, line 3)",
     "output_type": "error",
     "traceback": [
      "\u001b[0;36m  File \u001b[0;32m\"<ipython-input-48-176aef86aaa4>\"\u001b[0;36m, line \u001b[0;32m3\u001b[0m\n\u001b[0;31m    letters = if text == str:\u001b[0m\n\u001b[0m              ^\u001b[0m\n\u001b[0;31mSyntaxError\u001b[0m\u001b[0;31m:\u001b[0m invalid syntax\n"
     ]
    }
   ],
   "source": [
    "def count_all(text):\n",
    "    diction = {}\n",
    "    letters = if text == str:\n",
    "        len(text)\n",
    "        elif digits = len(text)\n",
    "    return diction.append(letters, digits)"
   ]
  },
  {
   "cell_type": "code",
   "execution_count": 67,
   "metadata": {},
   "outputs": [],
   "source": [
    "class Bank:\n",
    "    def __init__(self, balance):\n",
    "        self.balance = balance =0\n",
    "        \n",
    "    def get_balance(self):\n",
    "        print(self.balance)\n",
    "        \n",
    "    def deposit(self):\n",
    "        if self.balance > 0:\n",
    "            print(self.balance)\n",
    "        elif self.balance <0:\n",
    "            print(\"Error\")\n",
    "        \n",
    "    def withdraw(self):\n",
    "        if self.balance > 0:\n",
    "            print(self.balance)\n",
    "        elif self.balance <0:\n",
    "            print(\"Error\")"
   ]
  },
  {
   "cell_type": "code",
   "execution_count": 68,
   "metadata": {},
   "outputs": [],
   "source": [
    "rbs = Bank(4)\n",
    "rbs.withdraw()"
   ]
  }
 ],
 "metadata": {
  "kernelspec": {
   "display_name": "Python 3",
   "language": "python",
   "name": "python3"
  },
  "language_info": {
   "codemirror_mode": {
    "name": "ipython",
    "version": 3
   },
   "file_extension": ".py",
   "mimetype": "text/x-python",
   "name": "python",
   "nbconvert_exporter": "python",
   "pygments_lexer": "ipython3",
   "version": "3.8.3"
  }
 },
 "nbformat": 4,
 "nbformat_minor": 4
}
